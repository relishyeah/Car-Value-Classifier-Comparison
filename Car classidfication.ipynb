{
 "cells": [
  {
   "cell_type": "markdown",
   "metadata": {},
   "source": [
    "<h2>Introduction </h2>\n",
    "This project takes a dataset from UCI's Machine Learning Database which describes various feautures of a car as well as the percieved Value of each car. My goal for this project is to use a random forest classifier to determine if a car should be classified as \"unacceptable\", \"acceptable\", \"good\" or \"very good\" in terms of value.\n",
    "\n",
    "One of the advantages of the Random Forest method I am taking advantage of is the lack of requirements for the data I train ther model with. This is different from other models I have worked with because they require the data to fit some set of requirements."
   ]
  },
  {
   "cell_type": "code",
   "execution_count": 82,
   "metadata": {},
   "outputs": [
    {
     "name": "stdout",
     "output_type": "stream",
     "text": [
      "[+] Complete\n"
     ]
    }
   ],
   "source": [
    "import pandas as pd\n",
    "import numpy as np\n",
    "import matplotlib.pyplot as plt\n",
    "print(\"[+] Complete\")"
   ]
  },
  {
   "cell_type": "code",
   "execution_count": 2,
   "metadata": {},
   "outputs": [],
   "source": [
    "col = [\"buying\",\"maint\",\"doors\",\"persons\",\"lug_boot\",\"safety\",\"value\"]\n",
    "\n",
    "df = pd.read_csv('https://archive.ics.uci.edu/ml/machine-learning-databases/car/car.data',names = col)\n"
   ]
  },
  {
   "cell_type": "code",
   "execution_count": 3,
   "metadata": {
    "scrolled": true
   },
   "outputs": [
    {
     "name": "stdout",
     "output_type": "stream",
     "text": [
      "buying      object\n",
      "maint       object\n",
      "doors       object\n",
      "persons     object\n",
      "lug_boot    object\n",
      "safety      object\n",
      "value       object\n",
      "dtype: object\n",
      "\n",
      "  buying  maint doors persons lug_boot safety  value\n",
      "0  vhigh  vhigh     2       2    small    low  unacc\n",
      "1  vhigh  vhigh     2       2    small    med  unacc\n"
     ]
    }
   ],
   "source": [
    "print(df.dtypes)\n",
    "print()\n",
    "print(df.head(2))"
   ]
  },
  {
   "cell_type": "markdown",
   "metadata": {},
   "source": [
    "We have succesfully imported the data, now we will clean it up and make the values for most features categorical. since the categorical varaibles are ordinal, it is appropriate to assign increasing numerical values to represent these values.\n",
    "\n",
    "The data itself is not particularily complex, which each feature having somme categoricial variable relating to the feature, making the dataset a great candidate for a random forest classification."
   ]
  },
  {
   "cell_type": "code",
   "execution_count": 4,
   "metadata": {},
   "outputs": [
    {
     "name": "stdout",
     "output_type": "stream",
     "text": [
      "buying {'med', 'vhigh', 'low', 'high'}\n",
      "maint {'med', 'vhigh', 'low', 'high'}\n",
      "doors {'5more', '3', '2', '4'}\n",
      "persons {'more', '2', '4'}\n",
      "lug_boot {'med', 'big', 'small'}\n",
      "safety {'med', 'high', 'low'}\n",
      "value {'good', 'acc', 'unacc', 'vgood'}\n"
     ]
    }
   ],
   "source": [
    "for i in df:\n",
    "    print(i,set(df[i]))"
   ]
  },
  {
   "cell_type": "code",
   "execution_count": 5,
   "metadata": {
    "scrolled": true
   },
   "outputs": [
    {
     "data": {
      "text/html": [
       "<div>\n",
       "<style scoped>\n",
       "    .dataframe tbody tr th:only-of-type {\n",
       "        vertical-align: middle;\n",
       "    }\n",
       "\n",
       "    .dataframe tbody tr th {\n",
       "        vertical-align: top;\n",
       "    }\n",
       "\n",
       "    .dataframe thead th {\n",
       "        text-align: right;\n",
       "    }\n",
       "</style>\n",
       "<table border=\"1\" class=\"dataframe\">\n",
       "  <thead>\n",
       "    <tr style=\"text-align: right;\">\n",
       "      <th></th>\n",
       "      <th>buying</th>\n",
       "      <th>maint</th>\n",
       "      <th>doors</th>\n",
       "      <th>persons</th>\n",
       "      <th>lug_boot</th>\n",
       "      <th>safety</th>\n",
       "      <th>value</th>\n",
       "    </tr>\n",
       "  </thead>\n",
       "  <tbody>\n",
       "    <tr>\n",
       "      <th>0</th>\n",
       "      <td>4</td>\n",
       "      <td>4</td>\n",
       "      <td>2</td>\n",
       "      <td>2</td>\n",
       "      <td>1</td>\n",
       "      <td>1</td>\n",
       "      <td>1</td>\n",
       "    </tr>\n",
       "    <tr>\n",
       "      <th>1</th>\n",
       "      <td>4</td>\n",
       "      <td>4</td>\n",
       "      <td>2</td>\n",
       "      <td>2</td>\n",
       "      <td>1</td>\n",
       "      <td>2</td>\n",
       "      <td>1</td>\n",
       "    </tr>\n",
       "    <tr>\n",
       "      <th>2</th>\n",
       "      <td>4</td>\n",
       "      <td>4</td>\n",
       "      <td>2</td>\n",
       "      <td>2</td>\n",
       "      <td>1</td>\n",
       "      <td>3</td>\n",
       "      <td>1</td>\n",
       "    </tr>\n",
       "    <tr>\n",
       "      <th>3</th>\n",
       "      <td>4</td>\n",
       "      <td>4</td>\n",
       "      <td>2</td>\n",
       "      <td>2</td>\n",
       "      <td>2</td>\n",
       "      <td>1</td>\n",
       "      <td>1</td>\n",
       "    </tr>\n",
       "    <tr>\n",
       "      <th>4</th>\n",
       "      <td>4</td>\n",
       "      <td>4</td>\n",
       "      <td>2</td>\n",
       "      <td>2</td>\n",
       "      <td>2</td>\n",
       "      <td>2</td>\n",
       "      <td>1</td>\n",
       "    </tr>\n",
       "  </tbody>\n",
       "</table>\n",
       "</div>"
      ],
      "text/plain": [
       "   buying  maint  doors  persons  lug_boot  safety  value\n",
       "0       4      4      2        2         1       1      1\n",
       "1       4      4      2        2         1       2      1\n",
       "2       4      4      2        2         1       3      1\n",
       "3       4      4      2        2         2       1      1\n",
       "4       4      4      2        2         2       2      1"
      ]
     },
     "execution_count": 5,
     "metadata": {},
     "output_type": "execute_result"
    }
   ],
   "source": [
    "cleanup = {\"buying\":{\"low\":1,\"med\":2,\"high\":3,\"vhigh\":4},\n",
    "           \"maint\" :{\"low\":1,\"med\":2,\"high\":3,\"vhigh\":4},\n",
    "           \"doors\":{\"2\":2,\"3\":3,\"4\":4,\"5more\":5},\n",
    "           \"persons\":{\"2\":2,\"4\":4,\"more\":5},\n",
    "           \"lug_boot\":{\"small\":1,\"med\":2,\"big\":3},\n",
    "           \"safety\":{'high':3, 'low':1, 'med':2},\n",
    "           \"value\": {'good':3, 'unacc':1, 'acc':2, 'vgood':4}\n",
    "    \n",
    "}\n",
    "df.replace(cleanup, inplace=True)\n",
    "df.head()"
   ]
  },
  {
   "cell_type": "markdown",
   "metadata": {},
   "source": [
    "Now that our data is cleaned up, I will split up the data into a group to test the model and then a group to train our model.\n",
    "\n",
    "For the random forest, I am leaving most of the parameters as default since there is nothing that leads me to believe the data is not compatable with the model."
   ]
  },
  {
   "cell_type": "code",
   "execution_count": 20,
   "metadata": {},
   "outputs": [],
   "source": [
    "from sklearn.model_selection import train_test_split\n",
    "X = df.drop([\"value\"],axis=1)\n",
    "y = df['value']\n",
    "\n",
    "X_train, X_test, y_train, y_test = train_test_split( X, y, test_size=0.33, random_state=42)"
   ]
  },
  {
   "cell_type": "code",
   "execution_count": 24,
   "metadata": {},
   "outputs": [],
   "source": [
    "import sklearn.ensemble\n",
    "clf =sklearn.ensemble.RandomForestClassifier(100)\n",
    "clf.fit(X_train,y_train)\n",
    "\n",
    "y_pred = clf.predict(X_test)"
   ]
  },
  {
   "cell_type": "markdown",
   "metadata": {},
   "source": [
    "Now, to evaluate the model we can look at thje confusion matrix for this classification."
   ]
  },
  {
   "cell_type": "code",
   "execution_count": 27,
   "metadata": {},
   "outputs": [
    {
     "data": {
      "text/plain": [
       "array([[393,   4,   0,   0],\n",
       "       [  4, 115,   9,   1],\n",
       "       [  0,   0,  19,   1],\n",
       "       [  0,   3,   0,  22]], dtype=int64)"
      ]
     },
     "execution_count": 27,
     "metadata": {},
     "output_type": "execute_result"
    }
   ],
   "source": [
    "import sklearn.metrics\n",
    "CM =sklearn.metrics.confusion_matrix(y_test, y_pred)\n",
    "\n",
    "CM, random_state=42)"
   ]
  },
  {
   "cell_type": "markdown",
   "metadata": {},
   "source": [
    "We can canculate the accuracy of the model by calculating the correct classifications over the total classifications\n"
   ]
  },
  {
   "cell_type": "code",
   "execution_count": 48,
   "metadata": {},
   "outputs": [
    {
     "name": "stdout",
     "output_type": "stream",
     "text": [
      "Number Correct: 549\n",
      "Number Total: 571\n",
      "Accuracy: 96.14711033274956\n"
     ]
    }
   ],
   "source": [
    "correct = CM[0][0] + CM[1][1] +  CM[2][2] + CM[3][3]\n",
    "total = len(y_test)\n",
    "print(\"Number Correct: \"+str(correct),\"Number Total: \"+ str(total),\"Accuracy: \" + str(correct/total*100),sep=\"\\n\")"
   ]
  },
  {
   "cell_type": "markdown",
   "metadata": {},
   "source": [
    "Although a accuracy rate of 96.14% might as first seem excellent, it is important to rememmber the number in the context of the classification. This classifier attempts to predict the value for a car, so too high of a value might be bad for buyers, and too low of a vlaue might be bad for sellers.\n",
    "\n",
    "In the context of this confusion matrix, the rows indicate the actual classification, and the columns are how our model classified the data."
   ]
  },
  {
   "cell_type": "code",
   "execution_count": 50,
   "metadata": {},
   "outputs": [
    {
     "name": "stdout",
     "output_type": "stream",
     "text": [
      "Number Over: 15\n",
      "Number Under: 7\n",
      "Percent of total error Over: 68.18181818181817\n"
     ]
    }
   ],
   "source": [
    "under,over = 0,0\n",
    "\n",
    "for i in range(len(CM)):\n",
    "    for j in range(len(CM[i])):\n",
    "        if j>i:\n",
    "            over+=CM[i][j]\n",
    "        if j<i:\n",
    "            under += CM[i][j]\n",
    "print(\"Number Over: \" + str(over),\"Number Under: \" + str(under),\"Percent of total error Over: \" + str(over/(over+under)*100),sep=\"\\n\")\n"
   ]
  },
  {
   "cell_type": "markdown",
   "metadata": {},
   "source": [
    "Out of all of the errors, the model tends to overpredict value about twice as often as it underpredicts value.\n",
    "\n",
    "Here is a bar chart of how this breaks down for each  class."
   ]
  },
  {
   "cell_type": "code",
   "execution_count": 81,
   "metadata": {},
   "outputs": [
    {
     "data": {
      "image/png": "[encoded data removed]",
      "text/plain": [
       "<Figure size 432x288 with 1 Axes>"
      ]
     },
     "metadata": {
      "needs_background": "light"
     },
     "output_type": "display_data"
    }
   ],
   "source": [
    "CM_prob = [[i/sum(j) for i in j] for j in CM]\n",
    "under_prob = [0,CM_prob[1][0],0,CM_prob[3][1]]\n",
    "correct_prob = [CM_prob[0][0],CM_prob[1][1],CM_prob[2][2],CM_prob[3][3]]\n",
    "over_prob = [CM_prob[0][1],CM_prob[1][2]+CM_prob[1][3],CM_prob[2][3],0]\n",
    "\n",
    "X = np.arange(4)\n",
    "fig = plt.figure()\n",
    "ax = fig.add_axes([0,0,1,1])\n",
    "ax.bar(X + 0.00, under_prob, color = 'b', width = 0.25)\n",
    "ax.bar(X + 0.25, correct_prob, color = 'g', width = 0.25,tick_label=[\"unacc\",\"acc\",\"good\",\"vgood\"])\n",
    "ax.bar(X + 0.50, over_prob, color = 'r', width = 0.25)\n",
    "ax.legend(labels=['Under', 'Correct','Over'])\n",
    "\n",
    "\n",
    "ax.set_ylabel('Percentage of Class')\n",
    "\n",
    "ax.set_title('Percentages of Accuracy by Class')\n",
    "\n",
    "\n",
    "plt.show()"
   ]
  },
  {
   "cell_type": "markdown",
   "metadata": {},
   "source": [
    "These bars present the normalized probabiltiees for each class, so even though the model tends to overpredict, you can see that if the correct class of the car is 4, the model has a much higher tendency to underrate it than for any other class."
   ]
  },
  {
   "cell_type": "markdown",
   "metadata": {},
   "source": [
    "<h2>Conclusion </h2>\n",
    "This model appears to be a very strong predicitor  of a car's value. IF I was to refine the model, I would spend a little time making sure that the \"very good\" value cars are not undervalued because the visualization shown above seems to show that this si the largest fault of the model.\n",
    "\n",
    "The random forest approach is straightforward, and seems very appropriate for this data set due to the discrete datatypes and relatively low number of datapoints. "
   ]
  }
 ],
 "metadata": {
  "kernelspec": {
   "display_name": "Python 3",
   "language": "python",
   "name": "python3"
  },
  "language_info": {
   "codemirror_mode": {
    "name": "ipython",
    "version": 3
   },
   "file_extension": ".py",
   "mimetype": "text/x-python",
   "name": "python",
   "nbconvert_exporter": "python",
   "pygments_lexer": "ipython3",
   "version": "3.7.3"
  }
 },
 "nbformat": 4,
 "nbformat_minor": 2
}
